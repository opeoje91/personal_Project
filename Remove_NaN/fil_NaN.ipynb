{
 "cells": [
  {
   "cell_type": "code",
   "execution_count": 132,
   "metadata": {},
   "outputs": [],
   "source": [
    "# Initial imports.\n",
    "import pandas as pd\n",
    "import numpy as np\n",
    "import datetime as dt\n",
    "import calendar\n",
    "from path import Path\n",
    "from sklearn.ensemble import RandomForestClassifier\n",
    "from sklearn.preprocessing import StandardScaler\n",
    "from sklearn.model_selection import train_test_split\n",
    "from sklearn.metrics import confusion_matrix, accuracy_score, classification_report"
   ]
  },
  {
   "cell_type": "code",
   "execution_count": 133,
   "metadata": {},
   "outputs": [
    {
     "data": {
      "text/html": [
       "<div>\n",
       "<style scoped>\n",
       "    .dataframe tbody tr th:only-of-type {\n",
       "        vertical-align: middle;\n",
       "    }\n",
       "\n",
       "    .dataframe tbody tr th {\n",
       "        vertical-align: top;\n",
       "    }\n",
       "\n",
       "    .dataframe thead th {\n",
       "        text-align: right;\n",
       "    }\n",
       "</style>\n",
       "<table border=\"1\" class=\"dataframe\">\n",
       "  <thead>\n",
       "    <tr style=\"text-align: right;\">\n",
       "      <th></th>\n",
       "      <th>Date</th>\n",
       "      <th>Open</th>\n",
       "      <th>High</th>\n",
       "      <th>Low</th>\n",
       "      <th>Close</th>\n",
       "      <th>Adj Close</th>\n",
       "      <th>Volume</th>\n",
       "      <th>Open_Change</th>\n",
       "      <th>High_Change</th>\n",
       "      <th>Low_Change</th>\n",
       "      <th>Close_Change</th>\n",
       "      <th>Volume_Change</th>\n",
       "      <th>Gain_Loss_Open</th>\n",
       "      <th>Gain_Loss_High</th>\n",
       "      <th>Gain_Loss_Low</th>\n",
       "      <th>Gain_Loss_Close</th>\n",
       "      <th>Gain_Loss_Volume</th>\n",
       "    </tr>\n",
       "  </thead>\n",
       "  <tbody>\n",
       "    <tr>\n",
       "      <th>0.0</th>\n",
       "      <td>1980-12-12</td>\n",
       "      <td>0.128348</td>\n",
       "      <td>0.128906</td>\n",
       "      <td>0.128348</td>\n",
       "      <td>0.128348</td>\n",
       "      <td>0.100751</td>\n",
       "      <td>469033600.0</td>\n",
       "      <td>0.128348</td>\n",
       "      <td>0.128906</td>\n",
       "      <td>0.128348</td>\n",
       "      <td>0.128348</td>\n",
       "      <td>0</td>\n",
       "      <td>Gain</td>\n",
       "      <td>Gain</td>\n",
       "      <td>Gain</td>\n",
       "      <td>Gain</td>\n",
       "      <td>Gain</td>\n",
       "    </tr>\n",
       "    <tr>\n",
       "      <th>1.0</th>\n",
       "      <td>1980-12-15</td>\n",
       "      <td>0.122210</td>\n",
       "      <td>0.122210</td>\n",
       "      <td>0.121652</td>\n",
       "      <td>0.121652</td>\n",
       "      <td>0.095495</td>\n",
       "      <td>175884800.0</td>\n",
       "      <td>-0.006138</td>\n",
       "      <td>-0.006696</td>\n",
       "      <td>-0.006696</td>\n",
       "      <td>-0.006696</td>\n",
       "      <td>-293148800</td>\n",
       "      <td>Loss</td>\n",
       "      <td>Loss</td>\n",
       "      <td>Loss</td>\n",
       "      <td>Loss</td>\n",
       "      <td>Loss</td>\n",
       "    </tr>\n",
       "    <tr>\n",
       "      <th>2.0</th>\n",
       "      <td>1980-12-16</td>\n",
       "      <td>0.113281</td>\n",
       "      <td>0.113281</td>\n",
       "      <td>0.112723</td>\n",
       "      <td>0.112723</td>\n",
       "      <td>0.088485</td>\n",
       "      <td>105728000.0</td>\n",
       "      <td>-0.008929</td>\n",
       "      <td>-0.008929</td>\n",
       "      <td>-0.008929</td>\n",
       "      <td>-0.008929</td>\n",
       "      <td>-70156800</td>\n",
       "      <td>Loss</td>\n",
       "      <td>Loss</td>\n",
       "      <td>Loss</td>\n",
       "      <td>Loss</td>\n",
       "      <td>Loss</td>\n",
       "    </tr>\n",
       "    <tr>\n",
       "      <th>3.0</th>\n",
       "      <td>1980-12-17</td>\n",
       "      <td>0.115513</td>\n",
       "      <td>0.116071</td>\n",
       "      <td>0.115513</td>\n",
       "      <td>0.115513</td>\n",
       "      <td>0.090676</td>\n",
       "      <td>86441600.0</td>\n",
       "      <td>0.002232</td>\n",
       "      <td>0.00279</td>\n",
       "      <td>0.00279</td>\n",
       "      <td>0.00279</td>\n",
       "      <td>-19286400</td>\n",
       "      <td>Gain</td>\n",
       "      <td>Gain</td>\n",
       "      <td>Gain</td>\n",
       "      <td>Gain</td>\n",
       "      <td>Loss</td>\n",
       "    </tr>\n",
       "    <tr>\n",
       "      <th>4.0</th>\n",
       "      <td>1980-12-18</td>\n",
       "      <td>0.118862</td>\n",
       "      <td>0.119420</td>\n",
       "      <td>0.118862</td>\n",
       "      <td>0.118862</td>\n",
       "      <td>0.093304</td>\n",
       "      <td>73449600.0</td>\n",
       "      <td>0.003349</td>\n",
       "      <td>0.003349</td>\n",
       "      <td>0.003349</td>\n",
       "      <td>0.003349</td>\n",
       "      <td>-12992000</td>\n",
       "      <td>Gain</td>\n",
       "      <td>Gain</td>\n",
       "      <td>Gain</td>\n",
       "      <td>Gain</td>\n",
       "      <td>Loss</td>\n",
       "    </tr>\n",
       "  </tbody>\n",
       "</table>\n",
       "</div>"
      ],
      "text/plain": [
       "          Date      Open      High       Low     Close  Adj Close  \\\n",
       "0.0 1980-12-12  0.128348  0.128906  0.128348  0.128348   0.100751   \n",
       "1.0 1980-12-15  0.122210  0.122210  0.121652  0.121652   0.095495   \n",
       "2.0 1980-12-16  0.113281  0.113281  0.112723  0.112723   0.088485   \n",
       "3.0 1980-12-17  0.115513  0.116071  0.115513  0.115513   0.090676   \n",
       "4.0 1980-12-18  0.118862  0.119420  0.118862  0.118862   0.093304   \n",
       "\n",
       "          Volume Open_Change High_Change Low_Change Close_Change  \\\n",
       "0.0  469033600.0    0.128348    0.128906   0.128348     0.128348   \n",
       "1.0  175884800.0   -0.006138   -0.006696  -0.006696    -0.006696   \n",
       "2.0  105728000.0   -0.008929   -0.008929  -0.008929    -0.008929   \n",
       "3.0   86441600.0    0.002232     0.00279    0.00279      0.00279   \n",
       "4.0   73449600.0    0.003349    0.003349   0.003349     0.003349   \n",
       "\n",
       "    Volume_Change Gain_Loss_Open Gain_Loss_High Gain_Loss_Low Gain_Loss_Close  \\\n",
       "0.0             0           Gain           Gain          Gain            Gain   \n",
       "1.0    -293148800           Loss           Loss          Loss            Loss   \n",
       "2.0     -70156800           Loss           Loss          Loss            Loss   \n",
       "3.0     -19286400           Gain           Gain          Gain            Gain   \n",
       "4.0     -12992000           Gain           Gain          Gain            Gain   \n",
       "\n",
       "    Gain_Loss_Volume  \n",
       "0.0             Gain  \n",
       "1.0             Loss  \n",
       "2.0             Loss  \n",
       "3.0             Loss  \n",
       "4.0             Loss  "
      ]
     },
     "execution_count": 133,
     "metadata": {},
     "output_type": "execute_result"
    }
   ],
   "source": [
    "# Loading data after database join of seasons/quarters file and Apple's stock file\n",
    "# https://towardsdatascience.com/4-tricks-you-should-know-to-parse-date-columns-with-pandas-read-csv-27355bb2ad0e#:~:text=By%20default%2C%20date%20columns%20are%20parsed%20using%20the,a%20different%20date%20format%2C%20for%20example%2C%20YYYY-DD-MM%20HH%3AMM%3ASS%3A\n",
    "file_path =Path(\"CLEAN_DATE_AAPL_Official_DB.csv\")\n",
    "apple_df = pd.read_csv(file_path, parse_dates=['Date'])\n",
    "apple_df.set_index('Unnamed: 0',inplace=True)\n",
    "apple_df.index.name=None\n",
    "apple_df.head(5)"
   ]
  },
  {
   "cell_type": "code",
   "execution_count": 134,
   "metadata": {},
   "outputs": [
    {
     "data": {
      "text/html": [
       "<div>\n",
       "<style scoped>\n",
       "    .dataframe tbody tr th:only-of-type {\n",
       "        vertical-align: middle;\n",
       "    }\n",
       "\n",
       "    .dataframe tbody tr th {\n",
       "        vertical-align: top;\n",
       "    }\n",
       "\n",
       "    .dataframe thead th {\n",
       "        text-align: right;\n",
       "    }\n",
       "</style>\n",
       "<table border=\"1\" class=\"dataframe\">\n",
       "  <thead>\n",
       "    <tr style=\"text-align: right;\">\n",
       "      <th></th>\n",
       "      <th>Date</th>\n",
       "      <th>Open</th>\n",
       "      <th>High</th>\n",
       "      <th>Low</th>\n",
       "      <th>Close</th>\n",
       "      <th>Adj Close</th>\n",
       "      <th>Volume</th>\n",
       "      <th>Open_Change</th>\n",
       "      <th>High_Change</th>\n",
       "      <th>Low_Change</th>\n",
       "      <th>Close_Change</th>\n",
       "      <th>Volume_Change</th>\n",
       "      <th>Gain_Loss_Open</th>\n",
       "      <th>Gain_Loss_High</th>\n",
       "      <th>Gain_Loss_Low</th>\n",
       "      <th>Gain_Loss_Close</th>\n",
       "      <th>Gain_Loss_Volume</th>\n",
       "    </tr>\n",
       "  </thead>\n",
       "  <tbody>\n",
       "    <tr>\n",
       "      <th>0.0</th>\n",
       "      <td>723161</td>\n",
       "      <td>0.128348</td>\n",
       "      <td>0.128906</td>\n",
       "      <td>0.128348</td>\n",
       "      <td>0.128348</td>\n",
       "      <td>0.100751</td>\n",
       "      <td>469033600.0</td>\n",
       "      <td>0.128348</td>\n",
       "      <td>0.128906</td>\n",
       "      <td>0.128348</td>\n",
       "      <td>0.128348</td>\n",
       "      <td>0</td>\n",
       "      <td>Gain</td>\n",
       "      <td>Gain</td>\n",
       "      <td>Gain</td>\n",
       "      <td>Gain</td>\n",
       "      <td>Gain</td>\n",
       "    </tr>\n",
       "    <tr>\n",
       "      <th>1.0</th>\n",
       "      <td>723164</td>\n",
       "      <td>0.122210</td>\n",
       "      <td>0.122210</td>\n",
       "      <td>0.121652</td>\n",
       "      <td>0.121652</td>\n",
       "      <td>0.095495</td>\n",
       "      <td>175884800.0</td>\n",
       "      <td>-0.006138</td>\n",
       "      <td>-0.006696</td>\n",
       "      <td>-0.006696</td>\n",
       "      <td>-0.006696</td>\n",
       "      <td>-293148800</td>\n",
       "      <td>Loss</td>\n",
       "      <td>Loss</td>\n",
       "      <td>Loss</td>\n",
       "      <td>Loss</td>\n",
       "      <td>Loss</td>\n",
       "    </tr>\n",
       "    <tr>\n",
       "      <th>2.0</th>\n",
       "      <td>723165</td>\n",
       "      <td>0.113281</td>\n",
       "      <td>0.113281</td>\n",
       "      <td>0.112723</td>\n",
       "      <td>0.112723</td>\n",
       "      <td>0.088485</td>\n",
       "      <td>105728000.0</td>\n",
       "      <td>-0.008929</td>\n",
       "      <td>-0.008929</td>\n",
       "      <td>-0.008929</td>\n",
       "      <td>-0.008929</td>\n",
       "      <td>-70156800</td>\n",
       "      <td>Loss</td>\n",
       "      <td>Loss</td>\n",
       "      <td>Loss</td>\n",
       "      <td>Loss</td>\n",
       "      <td>Loss</td>\n",
       "    </tr>\n",
       "    <tr>\n",
       "      <th>3.0</th>\n",
       "      <td>723166</td>\n",
       "      <td>0.115513</td>\n",
       "      <td>0.116071</td>\n",
       "      <td>0.115513</td>\n",
       "      <td>0.115513</td>\n",
       "      <td>0.090676</td>\n",
       "      <td>86441600.0</td>\n",
       "      <td>0.002232</td>\n",
       "      <td>0.00279</td>\n",
       "      <td>0.00279</td>\n",
       "      <td>0.00279</td>\n",
       "      <td>-19286400</td>\n",
       "      <td>Gain</td>\n",
       "      <td>Gain</td>\n",
       "      <td>Gain</td>\n",
       "      <td>Gain</td>\n",
       "      <td>Loss</td>\n",
       "    </tr>\n",
       "    <tr>\n",
       "      <th>4.0</th>\n",
       "      <td>723167</td>\n",
       "      <td>0.118862</td>\n",
       "      <td>0.119420</td>\n",
       "      <td>0.118862</td>\n",
       "      <td>0.118862</td>\n",
       "      <td>0.093304</td>\n",
       "      <td>73449600.0</td>\n",
       "      <td>0.003349</td>\n",
       "      <td>0.003349</td>\n",
       "      <td>0.003349</td>\n",
       "      <td>0.003349</td>\n",
       "      <td>-12992000</td>\n",
       "      <td>Gain</td>\n",
       "      <td>Gain</td>\n",
       "      <td>Gain</td>\n",
       "      <td>Gain</td>\n",
       "      <td>Loss</td>\n",
       "    </tr>\n",
       "  </tbody>\n",
       "</table>\n",
       "</div>"
      ],
      "text/plain": [
       "       Date      Open      High       Low     Close  Adj Close       Volume  \\\n",
       "0.0  723161  0.128348  0.128906  0.128348  0.128348   0.100751  469033600.0   \n",
       "1.0  723164  0.122210  0.122210  0.121652  0.121652   0.095495  175884800.0   \n",
       "2.0  723165  0.113281  0.113281  0.112723  0.112723   0.088485  105728000.0   \n",
       "3.0  723166  0.115513  0.116071  0.115513  0.115513   0.090676   86441600.0   \n",
       "4.0  723167  0.118862  0.119420  0.118862  0.118862   0.093304   73449600.0   \n",
       "\n",
       "    Open_Change High_Change Low_Change Close_Change Volume_Change  \\\n",
       "0.0    0.128348    0.128906   0.128348     0.128348             0   \n",
       "1.0   -0.006138   -0.006696  -0.006696    -0.006696    -293148800   \n",
       "2.0   -0.008929   -0.008929  -0.008929    -0.008929     -70156800   \n",
       "3.0    0.002232     0.00279    0.00279      0.00279     -19286400   \n",
       "4.0    0.003349    0.003349   0.003349     0.003349     -12992000   \n",
       "\n",
       "    Gain_Loss_Open Gain_Loss_High Gain_Loss_Low Gain_Loss_Close  \\\n",
       "0.0           Gain           Gain          Gain            Gain   \n",
       "1.0           Loss           Loss          Loss            Loss   \n",
       "2.0           Loss           Loss          Loss            Loss   \n",
       "3.0           Gain           Gain          Gain            Gain   \n",
       "4.0           Gain           Gain          Gain            Gain   \n",
       "\n",
       "    Gain_Loss_Volume  \n",
       "0.0             Gain  \n",
       "1.0             Loss  \n",
       "2.0             Loss  \n",
       "3.0             Loss  \n",
       "4.0             Loss  "
      ]
     },
     "execution_count": 134,
     "metadata": {},
     "output_type": "execute_result"
    }
   ],
   "source": [
    "apple_df['Date'] = pd.to_datetime(apple_df['Date'])\n",
    "apple_df['Date'] = apple_df['Date'].map(dt.datetime.toordinal)\n",
    "apple_df.head()"
   ]
  },
  {
   "cell_type": "code",
   "execution_count": 135,
   "metadata": {},
   "outputs": [
    {
     "data": {
      "text/html": [
       "<div>\n",
       "<style scoped>\n",
       "    .dataframe tbody tr th:only-of-type {\n",
       "        vertical-align: middle;\n",
       "    }\n",
       "\n",
       "    .dataframe tbody tr th {\n",
       "        vertical-align: top;\n",
       "    }\n",
       "\n",
       "    .dataframe thead th {\n",
       "        text-align: right;\n",
       "    }\n",
       "</style>\n",
       "<table border=\"1\" class=\"dataframe\">\n",
       "  <thead>\n",
       "    <tr style=\"text-align: right;\">\n",
       "      <th></th>\n",
       "      <th>Date</th>\n",
       "      <th>Open</th>\n",
       "      <th>High</th>\n",
       "      <th>Low</th>\n",
       "      <th>Close</th>\n",
       "      <th>Adj Close</th>\n",
       "      <th>Volume</th>\n",
       "      <th>Open_Change</th>\n",
       "      <th>Gain_Loss_Open</th>\n",
       "    </tr>\n",
       "  </thead>\n",
       "  <tbody>\n",
       "    <tr>\n",
       "      <th>0.0</th>\n",
       "      <td>723161</td>\n",
       "      <td>0.128348</td>\n",
       "      <td>0.128906</td>\n",
       "      <td>0.128348</td>\n",
       "      <td>0.128348</td>\n",
       "      <td>0.100751</td>\n",
       "      <td>469033600.0</td>\n",
       "      <td>0.128348</td>\n",
       "      <td>Gain</td>\n",
       "    </tr>\n",
       "    <tr>\n",
       "      <th>1.0</th>\n",
       "      <td>723164</td>\n",
       "      <td>0.122210</td>\n",
       "      <td>0.122210</td>\n",
       "      <td>0.121652</td>\n",
       "      <td>0.121652</td>\n",
       "      <td>0.095495</td>\n",
       "      <td>175884800.0</td>\n",
       "      <td>-0.006138</td>\n",
       "      <td>Loss</td>\n",
       "    </tr>\n",
       "    <tr>\n",
       "      <th>2.0</th>\n",
       "      <td>723165</td>\n",
       "      <td>0.113281</td>\n",
       "      <td>0.113281</td>\n",
       "      <td>0.112723</td>\n",
       "      <td>0.112723</td>\n",
       "      <td>0.088485</td>\n",
       "      <td>105728000.0</td>\n",
       "      <td>-0.008929</td>\n",
       "      <td>Loss</td>\n",
       "    </tr>\n",
       "    <tr>\n",
       "      <th>3.0</th>\n",
       "      <td>723166</td>\n",
       "      <td>0.115513</td>\n",
       "      <td>0.116071</td>\n",
       "      <td>0.115513</td>\n",
       "      <td>0.115513</td>\n",
       "      <td>0.090676</td>\n",
       "      <td>86441600.0</td>\n",
       "      <td>0.002232</td>\n",
       "      <td>Gain</td>\n",
       "    </tr>\n",
       "    <tr>\n",
       "      <th>4.0</th>\n",
       "      <td>723167</td>\n",
       "      <td>0.118862</td>\n",
       "      <td>0.119420</td>\n",
       "      <td>0.118862</td>\n",
       "      <td>0.118862</td>\n",
       "      <td>0.093304</td>\n",
       "      <td>73449600.0</td>\n",
       "      <td>0.003349</td>\n",
       "      <td>Gain</td>\n",
       "    </tr>\n",
       "  </tbody>\n",
       "</table>\n",
       "</div>"
      ],
      "text/plain": [
       "       Date      Open      High       Low     Close  Adj Close       Volume  \\\n",
       "0.0  723161  0.128348  0.128906  0.128348  0.128348   0.100751  469033600.0   \n",
       "1.0  723164  0.122210  0.122210  0.121652  0.121652   0.095495  175884800.0   \n",
       "2.0  723165  0.113281  0.113281  0.112723  0.112723   0.088485  105728000.0   \n",
       "3.0  723166  0.115513  0.116071  0.115513  0.115513   0.090676   86441600.0   \n",
       "4.0  723167  0.118862  0.119420  0.118862  0.118862   0.093304   73449600.0   \n",
       "\n",
       "    Open_Change Gain_Loss_Open  \n",
       "0.0    0.128348           Gain  \n",
       "1.0   -0.006138           Loss  \n",
       "2.0   -0.008929           Loss  \n",
       "3.0    0.002232           Gain  \n",
       "4.0    0.003349           Gain  "
      ]
     },
     "execution_count": 135,
     "metadata": {},
     "output_type": "execute_result"
    }
   ],
   "source": [
    "apple_adj_df = apple_df.drop(['High_Change','Low_Change','Close_Change','Volume_Change','Gain_Loss_High','Gain_Loss_Low','Gain_Loss_Close','Gain_Loss_Volume'], axis=1)\n",
    "apple_adj_df.head()"
   ]
  },
  {
   "cell_type": "code",
   "execution_count": 136,
   "metadata": {},
   "outputs": [
    {
     "data": {
      "text/plain": [
       "Date                int64\n",
       "Open              float64\n",
       "High              float64\n",
       "Low               float64\n",
       "Close             float64\n",
       "Adj Close         float64\n",
       "Volume            float64\n",
       "Open_Change        object\n",
       "Gain_Loss_Open     object\n",
       "dtype: object"
      ]
     },
     "execution_count": 136,
     "metadata": {},
     "output_type": "execute_result"
    }
   ],
   "source": [
    "apple_adj_df.dtypes"
   ]
  },
  {
   "cell_type": "code",
   "execution_count": 137,
   "metadata": {},
   "outputs": [],
   "source": [
    "apple_adj_df[\"Open_Change\"] = pd.to_numeric(apple_adj_df.Open_Change,errors='coerce')"
   ]
  },
  {
   "cell_type": "code",
   "execution_count": 138,
   "metadata": {},
   "outputs": [
    {
     "data": {
      "text/plain": [
       "Date                int64\n",
       "Open              float64\n",
       "High              float64\n",
       "Low               float64\n",
       "Close             float64\n",
       "Adj Close         float64\n",
       "Volume            float64\n",
       "Open_Change       float64\n",
       "Gain_Loss_Open     object\n",
       "dtype: object"
      ]
     },
     "execution_count": 138,
     "metadata": {},
     "output_type": "execute_result"
    }
   ],
   "source": [
    "apple_adj_df.dtypes"
   ]
  },
  {
   "cell_type": "code",
   "execution_count": 139,
   "metadata": {},
   "outputs": [
    {
     "data": {
      "text/plain": [
       "Date              10227\n",
       "Open              10226\n",
       "High              10226\n",
       "Low               10226\n",
       "Close             10226\n",
       "Adj Close         10226\n",
       "Volume            10226\n",
       "Open_Change       10226\n",
       "Gain_Loss_Open    10227\n",
       "dtype: int64"
      ]
     },
     "execution_count": 139,
     "metadata": {},
     "output_type": "execute_result"
    }
   ],
   "source": [
    "apple_adj_df.count()"
   ]
  },
  {
   "cell_type": "code",
   "execution_count": 151,
   "metadata": {},
   "outputs": [
    {
     "data": {
      "text/plain": [
       "Date              0\n",
       "Open              1\n",
       "High              1\n",
       "Low               1\n",
       "Close             1\n",
       "Adj Close         1\n",
       "Volume            1\n",
       "Open_Change       1\n",
       "Gain_Loss_Open    0\n",
       "dtype: int64"
      ]
     },
     "execution_count": 151,
     "metadata": {},
     "output_type": "execute_result"
    }
   ],
   "source": [
    "apple_adj_df.isnull().sum()"
   ]
  },
  {
   "cell_type": "code",
   "execution_count": 126,
   "metadata": {},
   "outputs": [
    {
     "data": {
      "text/plain": [
       "Date                int64\n",
       "Open              float64\n",
       "High              float64\n",
       "Low               float64\n",
       "Close             float64\n",
       "Adj Close         float64\n",
       "Volume            float64\n",
       "Open_Change       float64\n",
       "Gain_Loss_Open     object\n",
       "dtype: object"
      ]
     },
     "execution_count": 126,
     "metadata": {},
     "output_type": "execute_result"
    }
   ],
   "source": [
    "#apple_adj_df.dtypes"
   ]
  },
  {
   "cell_type": "code",
   "execution_count": 152,
   "metadata": {},
   "outputs": [],
   "source": [
    "apple_adj_df[\"Open\"] = apple_adj_df[\"Open\"].fillna(0)"
   ]
  },
  {
   "cell_type": "code",
   "execution_count": 154,
   "metadata": {},
   "outputs": [],
   "source": [
    "apple_adj_df[\"High\"] = apple_adj_df[\"High\"].fillna(0)"
   ]
  },
  {
   "cell_type": "code",
   "execution_count": 155,
   "metadata": {},
   "outputs": [],
   "source": [
    "apple_adj_df[\"Low\"] = apple_adj_df[\"Low\"].fillna(0)"
   ]
  },
  {
   "cell_type": "code",
   "execution_count": 156,
   "metadata": {},
   "outputs": [],
   "source": [
    "apple_adj_df[\"Close\"] = apple_adj_df[\"Close\"].fillna(0)"
   ]
  },
  {
   "cell_type": "code",
   "execution_count": 157,
   "metadata": {},
   "outputs": [],
   "source": [
    "apple_adj_df[\"Adj Close\"] = apple_adj_df[\"Adj Close\"].fillna(0)"
   ]
  },
  {
   "cell_type": "code",
   "execution_count": 158,
   "metadata": {},
   "outputs": [],
   "source": [
    "apple_adj_df[\"Volume\"] = apple_adj_df[\"Volume\"].fillna(0)"
   ]
  },
  {
   "cell_type": "code",
   "execution_count": 159,
   "metadata": {},
   "outputs": [],
   "source": [
    "apple_adj_df[\"Open_Change\"] = apple_adj_df[\"Open_Change\"].fillna(0)"
   ]
  },
  {
   "cell_type": "code",
   "execution_count": 160,
   "metadata": {},
   "outputs": [
    {
     "data": {
      "text/plain": [
       "Date              0\n",
       "Open              0\n",
       "High              0\n",
       "Low               0\n",
       "Close             0\n",
       "Adj Close         0\n",
       "Volume            0\n",
       "Open_Change       0\n",
       "Gain_Loss_Open    0\n",
       "dtype: int64"
      ]
     },
     "execution_count": 160,
     "metadata": {},
     "output_type": "execute_result"
    }
   ],
   "source": [
    "apple_adj_df.isnull().sum()"
   ]
  },
  {
   "cell_type": "code",
   "execution_count": 161,
   "metadata": {},
   "outputs": [
    {
     "data": {
      "text/plain": [
       "Date              10227\n",
       "Open              10227\n",
       "High              10227\n",
       "Low               10227\n",
       "Close             10227\n",
       "Adj Close         10227\n",
       "Volume            10227\n",
       "Open_Change       10227\n",
       "Gain_Loss_Open    10227\n",
       "dtype: int64"
      ]
     },
     "execution_count": 161,
     "metadata": {},
     "output_type": "execute_result"
    }
   ],
   "source": [
    "apple_adj_df.count()"
   ]
  },
  {
   "cell_type": "code",
   "execution_count": 176,
   "metadata": {},
   "outputs": [],
   "source": [
    "apple_adj_df.to_csv('CLEAN_DATE_AAPL_No_NaN.csv')"
   ]
  },
  {
   "cell_type": "code",
   "execution_count": 11,
   "metadata": {},
   "outputs": [],
   "source": [
    "# np.any(np.isnan(mat))\n",
    "# np.all(np.isfinite(mat))\n",
    "\n",
    "#With np.isnan(X) you get a boolean mask back with True for positions containing NaNs.\n",
    "\n",
    "#With np.where(np.isnan(X)) you get back a tuple with i, j coordinates of NaNs.\n",
    "\n",
    "#Finally, with np.nan_to_num(X) you \"replace nan with zero and inf with finite numbers\"."
   ]
  },
  {
   "cell_type": "code",
   "execution_count": 162,
   "metadata": {},
   "outputs": [
    {
     "data": {
      "text/html": [
       "<div>\n",
       "<style scoped>\n",
       "    .dataframe tbody tr th:only-of-type {\n",
       "        vertical-align: middle;\n",
       "    }\n",
       "\n",
       "    .dataframe tbody tr th {\n",
       "        vertical-align: top;\n",
       "    }\n",
       "\n",
       "    .dataframe thead th {\n",
       "        text-align: right;\n",
       "    }\n",
       "</style>\n",
       "<table border=\"1\" class=\"dataframe\">\n",
       "  <thead>\n",
       "    <tr style=\"text-align: right;\">\n",
       "      <th></th>\n",
       "      <th>Date</th>\n",
       "      <th>Open</th>\n",
       "      <th>High</th>\n",
       "      <th>Low</th>\n",
       "      <th>Close</th>\n",
       "      <th>Adj Close</th>\n",
       "      <th>Volume</th>\n",
       "      <th>Open_Change</th>\n",
       "      <th>Gain_Loss_Open</th>\n",
       "    </tr>\n",
       "  </thead>\n",
       "  <tbody>\n",
       "    <tr>\n",
       "      <th>0.0</th>\n",
       "      <td>723161</td>\n",
       "      <td>0.128348</td>\n",
       "      <td>0.128906</td>\n",
       "      <td>0.128348</td>\n",
       "      <td>0.128348</td>\n",
       "      <td>0.100751</td>\n",
       "      <td>469033600.0</td>\n",
       "      <td>0.128348</td>\n",
       "      <td>0</td>\n",
       "    </tr>\n",
       "    <tr>\n",
       "      <th>1.0</th>\n",
       "      <td>723164</td>\n",
       "      <td>0.122210</td>\n",
       "      <td>0.122210</td>\n",
       "      <td>0.121652</td>\n",
       "      <td>0.121652</td>\n",
       "      <td>0.095495</td>\n",
       "      <td>175884800.0</td>\n",
       "      <td>-0.006138</td>\n",
       "      <td>1</td>\n",
       "    </tr>\n",
       "    <tr>\n",
       "      <th>2.0</th>\n",
       "      <td>723165</td>\n",
       "      <td>0.113281</td>\n",
       "      <td>0.113281</td>\n",
       "      <td>0.112723</td>\n",
       "      <td>0.112723</td>\n",
       "      <td>0.088485</td>\n",
       "      <td>105728000.0</td>\n",
       "      <td>-0.008929</td>\n",
       "      <td>1</td>\n",
       "    </tr>\n",
       "    <tr>\n",
       "      <th>3.0</th>\n",
       "      <td>723166</td>\n",
       "      <td>0.115513</td>\n",
       "      <td>0.116071</td>\n",
       "      <td>0.115513</td>\n",
       "      <td>0.115513</td>\n",
       "      <td>0.090676</td>\n",
       "      <td>86441600.0</td>\n",
       "      <td>0.002232</td>\n",
       "      <td>0</td>\n",
       "    </tr>\n",
       "    <tr>\n",
       "      <th>4.0</th>\n",
       "      <td>723167</td>\n",
       "      <td>0.118862</td>\n",
       "      <td>0.119420</td>\n",
       "      <td>0.118862</td>\n",
       "      <td>0.118862</td>\n",
       "      <td>0.093304</td>\n",
       "      <td>73449600.0</td>\n",
       "      <td>0.003349</td>\n",
       "      <td>0</td>\n",
       "    </tr>\n",
       "  </tbody>\n",
       "</table>\n",
       "</div>"
      ],
      "text/plain": [
       "       Date      Open      High       Low     Close  Adj Close       Volume  \\\n",
       "0.0  723161  0.128348  0.128906  0.128348  0.128348   0.100751  469033600.0   \n",
       "1.0  723164  0.122210  0.122210  0.121652  0.121652   0.095495  175884800.0   \n",
       "2.0  723165  0.113281  0.113281  0.112723  0.112723   0.088485  105728000.0   \n",
       "3.0  723166  0.115513  0.116071  0.115513  0.115513   0.090676   86441600.0   \n",
       "4.0  723167  0.118862  0.119420  0.118862  0.118862   0.093304   73449600.0   \n",
       "\n",
       "     Open_Change  Gain_Loss_Open  \n",
       "0.0     0.128348               0  \n",
       "1.0    -0.006138               1  \n",
       "2.0    -0.008929               1  \n",
       "3.0     0.002232               0  \n",
       "4.0     0.003349               0  "
      ]
     },
     "execution_count": 162,
     "metadata": {},
     "output_type": "execute_result"
    }
   ],
   "source": [
    "# Must remain in order to activate label_binarize\n",
    "#If in doubt refer to sklearn\n",
    "from sklearn.preprocessing import LabelEncoder\n",
    "le = LabelEncoder()\n",
    "apple_adj_df = apple_adj_df.copy()\n",
    "apple_adj_df['Gain_Loss_Open'] = le.fit_transform(apple_adj_df['Gain_Loss_Open'])\n",
    "apple_adj_df.head()"
   ]
  },
  {
   "cell_type": "code",
   "execution_count": 163,
   "metadata": {},
   "outputs": [
    {
     "data": {
      "text/html": [
       "<div>\n",
       "<style scoped>\n",
       "    .dataframe tbody tr th:only-of-type {\n",
       "        vertical-align: middle;\n",
       "    }\n",
       "\n",
       "    .dataframe tbody tr th {\n",
       "        vertical-align: top;\n",
       "    }\n",
       "\n",
       "    .dataframe thead th {\n",
       "        text-align: right;\n",
       "    }\n",
       "</style>\n",
       "<table border=\"1\" class=\"dataframe\">\n",
       "  <thead>\n",
       "    <tr style=\"text-align: right;\">\n",
       "      <th></th>\n",
       "      <th>Date</th>\n",
       "      <th>Open</th>\n",
       "      <th>High</th>\n",
       "      <th>Low</th>\n",
       "      <th>Close</th>\n",
       "      <th>Adj Close</th>\n",
       "      <th>Volume</th>\n",
       "      <th>Open_Change</th>\n",
       "      <th>Gain_Loss_Open</th>\n",
       "    </tr>\n",
       "  </thead>\n",
       "  <tbody>\n",
       "    <tr>\n",
       "      <th>0.0</th>\n",
       "      <td>723161</td>\n",
       "      <td>0.128348</td>\n",
       "      <td>0.128906</td>\n",
       "      <td>0.128348</td>\n",
       "      <td>0.128348</td>\n",
       "      <td>0.100751</td>\n",
       "      <td>469033600.0</td>\n",
       "      <td>0.128348</td>\n",
       "      <td>1</td>\n",
       "    </tr>\n",
       "    <tr>\n",
       "      <th>1.0</th>\n",
       "      <td>723164</td>\n",
       "      <td>0.122210</td>\n",
       "      <td>0.122210</td>\n",
       "      <td>0.121652</td>\n",
       "      <td>0.121652</td>\n",
       "      <td>0.095495</td>\n",
       "      <td>175884800.0</td>\n",
       "      <td>-0.006138</td>\n",
       "      <td>0</td>\n",
       "    </tr>\n",
       "    <tr>\n",
       "      <th>2.0</th>\n",
       "      <td>723165</td>\n",
       "      <td>0.113281</td>\n",
       "      <td>0.113281</td>\n",
       "      <td>0.112723</td>\n",
       "      <td>0.112723</td>\n",
       "      <td>0.088485</td>\n",
       "      <td>105728000.0</td>\n",
       "      <td>-0.008929</td>\n",
       "      <td>0</td>\n",
       "    </tr>\n",
       "    <tr>\n",
       "      <th>3.0</th>\n",
       "      <td>723166</td>\n",
       "      <td>0.115513</td>\n",
       "      <td>0.116071</td>\n",
       "      <td>0.115513</td>\n",
       "      <td>0.115513</td>\n",
       "      <td>0.090676</td>\n",
       "      <td>86441600.0</td>\n",
       "      <td>0.002232</td>\n",
       "      <td>1</td>\n",
       "    </tr>\n",
       "    <tr>\n",
       "      <th>4.0</th>\n",
       "      <td>723167</td>\n",
       "      <td>0.118862</td>\n",
       "      <td>0.119420</td>\n",
       "      <td>0.118862</td>\n",
       "      <td>0.118862</td>\n",
       "      <td>0.093304</td>\n",
       "      <td>73449600.0</td>\n",
       "      <td>0.003349</td>\n",
       "      <td>1</td>\n",
       "    </tr>\n",
       "  </tbody>\n",
       "</table>\n",
       "</div>"
      ],
      "text/plain": [
       "       Date      Open      High       Low     Close  Adj Close       Volume  \\\n",
       "0.0  723161  0.128348  0.128906  0.128348  0.128348   0.100751  469033600.0   \n",
       "1.0  723164  0.122210  0.122210  0.121652  0.121652   0.095495  175884800.0   \n",
       "2.0  723165  0.113281  0.113281  0.112723  0.112723   0.088485  105728000.0   \n",
       "3.0  723166  0.115513  0.116071  0.115513  0.115513   0.090676   86441600.0   \n",
       "4.0  723167  0.118862  0.119420  0.118862  0.118862   0.093304   73449600.0   \n",
       "\n",
       "     Open_Change  Gain_Loss_Open  \n",
       "0.0     0.128348               1  \n",
       "1.0    -0.006138               0  \n",
       "2.0    -0.008929               0  \n",
       "3.0     0.002232               1  \n",
       "4.0     0.003349               1  "
      ]
     },
     "execution_count": 163,
     "metadata": {},
     "output_type": "execute_result"
    }
   ],
   "source": [
    "# If in doubt look up scikit learn label_binarize\n",
    "from sklearn.preprocessing import label_binarize\n",
    "\n",
    "binarized_gain_loss = label_binarize(y=list(apple_adj_df['Gain_Loss_Open']), classes=[1,0])\n",
    "apple_adj_df = apple_adj_df.copy()\n",
    "apple_adj_df['Gain_Loss_Open'] = binarized_gain_loss\n",
    "apple_adj_df.head()"
   ]
  },
  {
   "cell_type": "code",
   "execution_count": 164,
   "metadata": {},
   "outputs": [
    {
     "data": {
      "text/html": [
       "<div>\n",
       "<style scoped>\n",
       "    .dataframe tbody tr th:only-of-type {\n",
       "        vertical-align: middle;\n",
       "    }\n",
       "\n",
       "    .dataframe tbody tr th {\n",
       "        vertical-align: top;\n",
       "    }\n",
       "\n",
       "    .dataframe thead th {\n",
       "        text-align: right;\n",
       "    }\n",
       "</style>\n",
       "<table border=\"1\" class=\"dataframe\">\n",
       "  <thead>\n",
       "    <tr style=\"text-align: right;\">\n",
       "      <th></th>\n",
       "      <th>Date</th>\n",
       "      <th>Open</th>\n",
       "      <th>High</th>\n",
       "      <th>Low</th>\n",
       "      <th>Close</th>\n",
       "      <th>Adj Close</th>\n",
       "      <th>Volume</th>\n",
       "    </tr>\n",
       "  </thead>\n",
       "  <tbody>\n",
       "    <tr>\n",
       "      <th>0.0</th>\n",
       "      <td>723161</td>\n",
       "      <td>0.128348</td>\n",
       "      <td>0.128906</td>\n",
       "      <td>0.128348</td>\n",
       "      <td>0.128348</td>\n",
       "      <td>0.100751</td>\n",
       "      <td>469033600.0</td>\n",
       "    </tr>\n",
       "    <tr>\n",
       "      <th>1.0</th>\n",
       "      <td>723164</td>\n",
       "      <td>0.122210</td>\n",
       "      <td>0.122210</td>\n",
       "      <td>0.121652</td>\n",
       "      <td>0.121652</td>\n",
       "      <td>0.095495</td>\n",
       "      <td>175884800.0</td>\n",
       "    </tr>\n",
       "    <tr>\n",
       "      <th>2.0</th>\n",
       "      <td>723165</td>\n",
       "      <td>0.113281</td>\n",
       "      <td>0.113281</td>\n",
       "      <td>0.112723</td>\n",
       "      <td>0.112723</td>\n",
       "      <td>0.088485</td>\n",
       "      <td>105728000.0</td>\n",
       "    </tr>\n",
       "    <tr>\n",
       "      <th>3.0</th>\n",
       "      <td>723166</td>\n",
       "      <td>0.115513</td>\n",
       "      <td>0.116071</td>\n",
       "      <td>0.115513</td>\n",
       "      <td>0.115513</td>\n",
       "      <td>0.090676</td>\n",
       "      <td>86441600.0</td>\n",
       "    </tr>\n",
       "    <tr>\n",
       "      <th>4.0</th>\n",
       "      <td>723167</td>\n",
       "      <td>0.118862</td>\n",
       "      <td>0.119420</td>\n",
       "      <td>0.118862</td>\n",
       "      <td>0.118862</td>\n",
       "      <td>0.093304</td>\n",
       "      <td>73449600.0</td>\n",
       "    </tr>\n",
       "  </tbody>\n",
       "</table>\n",
       "</div>"
      ],
      "text/plain": [
       "       Date      Open      High       Low     Close  Adj Close       Volume\n",
       "0.0  723161  0.128348  0.128906  0.128348  0.128348   0.100751  469033600.0\n",
       "1.0  723164  0.122210  0.122210  0.121652  0.121652   0.095495  175884800.0\n",
       "2.0  723165  0.113281  0.113281  0.112723  0.112723   0.088485  105728000.0\n",
       "3.0  723166  0.115513  0.116071  0.115513  0.115513   0.090676   86441600.0\n",
       "4.0  723167  0.118862  0.119420  0.118862  0.118862   0.093304   73449600.0"
      ]
     },
     "execution_count": 164,
     "metadata": {},
     "output_type": "execute_result"
    }
   ],
   "source": [
    "# Define features set\n",
    "X = apple_adj_df.copy()\n",
    "X = apple_adj_df.drop([\"Gain_Loss_Open\",\"Open_Change\"], axis=1)\n",
    "X.head()"
   ]
  },
  {
   "cell_type": "code",
   "execution_count": 143,
   "metadata": {},
   "outputs": [
    {
     "data": {
      "text/html": [
       "<div>\n",
       "<style scoped>\n",
       "    .dataframe tbody tr th:only-of-type {\n",
       "        vertical-align: middle;\n",
       "    }\n",
       "\n",
       "    .dataframe tbody tr th {\n",
       "        vertical-align: top;\n",
       "    }\n",
       "\n",
       "    .dataframe thead th {\n",
       "        text-align: right;\n",
       "    }\n",
       "</style>\n",
       "<table border=\"1\" class=\"dataframe\">\n",
       "  <thead>\n",
       "    <tr style=\"text-align: right;\">\n",
       "      <th></th>\n",
       "      <th>Date</th>\n",
       "      <th>Open</th>\n",
       "      <th>High</th>\n",
       "      <th>Low</th>\n",
       "      <th>Close</th>\n",
       "      <th>Adj Close</th>\n",
       "      <th>Volume</th>\n",
       "    </tr>\n",
       "  </thead>\n",
       "  <tbody>\n",
       "    <tr>\n",
       "      <th>0.0</th>\n",
       "      <td>False</td>\n",
       "      <td>False</td>\n",
       "      <td>False</td>\n",
       "      <td>False</td>\n",
       "      <td>False</td>\n",
       "      <td>False</td>\n",
       "      <td>False</td>\n",
       "    </tr>\n",
       "    <tr>\n",
       "      <th>1.0</th>\n",
       "      <td>False</td>\n",
       "      <td>False</td>\n",
       "      <td>False</td>\n",
       "      <td>False</td>\n",
       "      <td>False</td>\n",
       "      <td>False</td>\n",
       "      <td>False</td>\n",
       "    </tr>\n",
       "    <tr>\n",
       "      <th>2.0</th>\n",
       "      <td>False</td>\n",
       "      <td>False</td>\n",
       "      <td>False</td>\n",
       "      <td>False</td>\n",
       "      <td>False</td>\n",
       "      <td>False</td>\n",
       "      <td>False</td>\n",
       "    </tr>\n",
       "    <tr>\n",
       "      <th>3.0</th>\n",
       "      <td>False</td>\n",
       "      <td>False</td>\n",
       "      <td>False</td>\n",
       "      <td>False</td>\n",
       "      <td>False</td>\n",
       "      <td>False</td>\n",
       "      <td>False</td>\n",
       "    </tr>\n",
       "    <tr>\n",
       "      <th>4.0</th>\n",
       "      <td>False</td>\n",
       "      <td>False</td>\n",
       "      <td>False</td>\n",
       "      <td>False</td>\n",
       "      <td>False</td>\n",
       "      <td>False</td>\n",
       "      <td>False</td>\n",
       "    </tr>\n",
       "    <tr>\n",
       "      <th>...</th>\n",
       "      <td>...</td>\n",
       "      <td>...</td>\n",
       "      <td>...</td>\n",
       "      <td>...</td>\n",
       "      <td>...</td>\n",
       "      <td>...</td>\n",
       "      <td>...</td>\n",
       "    </tr>\n",
       "    <tr>\n",
       "      <th>10222.0</th>\n",
       "      <td>False</td>\n",
       "      <td>False</td>\n",
       "      <td>False</td>\n",
       "      <td>False</td>\n",
       "      <td>False</td>\n",
       "      <td>False</td>\n",
       "      <td>False</td>\n",
       "    </tr>\n",
       "    <tr>\n",
       "      <th>10223.0</th>\n",
       "      <td>False</td>\n",
       "      <td>False</td>\n",
       "      <td>False</td>\n",
       "      <td>False</td>\n",
       "      <td>False</td>\n",
       "      <td>False</td>\n",
       "      <td>False</td>\n",
       "    </tr>\n",
       "    <tr>\n",
       "      <th>10224.0</th>\n",
       "      <td>False</td>\n",
       "      <td>False</td>\n",
       "      <td>False</td>\n",
       "      <td>False</td>\n",
       "      <td>False</td>\n",
       "      <td>False</td>\n",
       "      <td>False</td>\n",
       "    </tr>\n",
       "    <tr>\n",
       "      <th>10225.0</th>\n",
       "      <td>False</td>\n",
       "      <td>False</td>\n",
       "      <td>False</td>\n",
       "      <td>False</td>\n",
       "      <td>False</td>\n",
       "      <td>False</td>\n",
       "      <td>False</td>\n",
       "    </tr>\n",
       "    <tr>\n",
       "      <th>NaN</th>\n",
       "      <td>False</td>\n",
       "      <td>True</td>\n",
       "      <td>True</td>\n",
       "      <td>True</td>\n",
       "      <td>True</td>\n",
       "      <td>True</td>\n",
       "      <td>True</td>\n",
       "    </tr>\n",
       "  </tbody>\n",
       "</table>\n",
       "<p>10227 rows × 7 columns</p>\n",
       "</div>"
      ],
      "text/plain": [
       "          Date   Open   High    Low  Close  Adj Close  Volume\n",
       "0.0      False  False  False  False  False      False   False\n",
       "1.0      False  False  False  False  False      False   False\n",
       "2.0      False  False  False  False  False      False   False\n",
       "3.0      False  False  False  False  False      False   False\n",
       "4.0      False  False  False  False  False      False   False\n",
       "...        ...    ...    ...    ...    ...        ...     ...\n",
       "10222.0  False  False  False  False  False      False   False\n",
       "10223.0  False  False  False  False  False      False   False\n",
       "10224.0  False  False  False  False  False      False   False\n",
       "10225.0  False  False  False  False  False      False   False\n",
       "NaN      False   True   True   True   True       True    True\n",
       "\n",
       "[10227 rows x 7 columns]"
      ]
     },
     "execution_count": 143,
     "metadata": {},
     "output_type": "execute_result"
    }
   ],
   "source": [
    "#np.isnan(X)"
   ]
  },
  {
   "cell_type": "code",
   "execution_count": 144,
   "metadata": {},
   "outputs": [
    {
     "data": {
      "text/plain": [
       "(array([10226, 10226, 10226, 10226, 10226, 10226], dtype=int64),\n",
       " array([1, 2, 3, 4, 5, 6], dtype=int64))"
      ]
     },
     "execution_count": 144,
     "metadata": {},
     "output_type": "execute_result"
    }
   ],
   "source": [
    "#np.where(np.isnan(X))"
   ]
  },
  {
   "cell_type": "code",
   "execution_count": 145,
   "metadata": {},
   "outputs": [
    {
     "data": {
      "text/plain": [
       "array([[7.23161000e+05, 1.28348000e-01, 1.28906000e-01, ...,\n",
       "        1.28348000e-01, 1.00751000e-01, 4.69033600e+08],\n",
       "       [7.23164000e+05, 1.22210000e-01, 1.22210000e-01, ...,\n",
       "        1.21652000e-01, 9.54950000e-02, 1.75884800e+08],\n",
       "       [7.23165000e+05, 1.13281000e-01, 1.13281000e-01, ...,\n",
       "        1.12723000e-01, 8.84850000e-02, 1.05728000e+08],\n",
       "       ...,\n",
       "       [7.38128000e+05, 1.32520004e+02, 1.32850006e+02, ...,\n",
       "        1.31240005e+02, 1.31017456e+02, 9.14200000e+07],\n",
       "       [7.38129000e+05, 1.23400002e+02, 1.24639999e+02, ...,\n",
       "        1.22769997e+02, 1.22769997e+02, 1.12172300e+08],\n",
       "       [1.00000000e+00, 0.00000000e+00, 0.00000000e+00, ...,\n",
       "        0.00000000e+00, 0.00000000e+00, 0.00000000e+00]])"
      ]
     },
     "execution_count": 145,
     "metadata": {},
     "output_type": "execute_result"
    }
   ],
   "source": [
    "#np.nan_to_num(X)"
   ]
  },
  {
   "cell_type": "code",
   "execution_count": 165,
   "metadata": {},
   "outputs": [
    {
     "data": {
      "text/plain": [
       "array([1, 0, 0, 1, 1])"
      ]
     },
     "execution_count": 165,
     "metadata": {},
     "output_type": "execute_result"
    }
   ],
   "source": [
    "# Define the target set.\n",
    "y = apple_adj_df[\"Gain_Loss_Open\"].ravel()\n",
    "y[:5]"
   ]
  },
  {
   "cell_type": "code",
   "execution_count": 166,
   "metadata": {},
   "outputs": [],
   "source": [
    "# Splitting into Train and Test sets.\n",
    "X_train, X_test, y_train, y_test = train_test_split(X, y, random_state=78)"
   ]
  },
  {
   "cell_type": "code",
   "execution_count": 167,
   "metadata": {},
   "outputs": [],
   "source": [
    "# Creating a StandardScaler instance.\n",
    "scaler = StandardScaler()\n",
    "# Fitting the Standard Scaler with the training data.\n",
    "X_scaler = scaler.fit(X_train)\n",
    "\n",
    "# Scaling the data.\n",
    "X_train_scaled = X_scaler.transform(X_train)\n",
    "X_test_scaled = X_scaler.transform(X_test)"
   ]
  },
  {
   "cell_type": "code",
   "execution_count": 168,
   "metadata": {},
   "outputs": [],
   "source": [
    "# Create a random forest classifier.\n",
    "rf_model = RandomForestClassifier(n_estimators=100, random_state=78) "
   ]
  },
  {
   "cell_type": "code",
   "execution_count": 169,
   "metadata": {},
   "outputs": [],
   "source": [
    "# Fitting the model\n",
    "rf_model = rf_model.fit(X_train_scaled, y_train)"
   ]
  },
  {
   "cell_type": "code",
   "execution_count": 170,
   "metadata": {},
   "outputs": [],
   "source": [
    "# Making predictions using the testing data.\n",
    "predictions = rf_model.predict(X_test_scaled)"
   ]
  },
  {
   "cell_type": "code",
   "execution_count": 171,
   "metadata": {},
   "outputs": [
    {
     "data": {
      "text/html": [
       "<div>\n",
       "<style scoped>\n",
       "    .dataframe tbody tr th:only-of-type {\n",
       "        vertical-align: middle;\n",
       "    }\n",
       "\n",
       "    .dataframe tbody tr th {\n",
       "        vertical-align: top;\n",
       "    }\n",
       "\n",
       "    .dataframe thead th {\n",
       "        text-align: right;\n",
       "    }\n",
       "</style>\n",
       "<table border=\"1\" class=\"dataframe\">\n",
       "  <thead>\n",
       "    <tr style=\"text-align: right;\">\n",
       "      <th></th>\n",
       "      <th>Predicted 0</th>\n",
       "      <th>Predicted 1</th>\n",
       "    </tr>\n",
       "  </thead>\n",
       "  <tbody>\n",
       "    <tr>\n",
       "      <th>Actual 0</th>\n",
       "      <td>574</td>\n",
       "      <td>602</td>\n",
       "    </tr>\n",
       "    <tr>\n",
       "      <th>Actual 1</th>\n",
       "      <td>479</td>\n",
       "      <td>902</td>\n",
       "    </tr>\n",
       "  </tbody>\n",
       "</table>\n",
       "</div>"
      ],
      "text/plain": [
       "          Predicted 0  Predicted 1\n",
       "Actual 0          574          602\n",
       "Actual 1          479          902"
      ]
     },
     "execution_count": 171,
     "metadata": {},
     "output_type": "execute_result"
    }
   ],
   "source": [
    "# Calculating the confusion matrix.\n",
    "cm = confusion_matrix(y_test, predictions)\n",
    "\n",
    "# Create a DataFrame from the confusion matrix.\n",
    "cm_df = pd.DataFrame(\n",
    "    cm, index=[\"Actual 0\", \"Actual 1\"], columns=[\"Predicted 0\", \"Predicted 1\"])\n",
    "\n",
    "cm_df"
   ]
  },
  {
   "cell_type": "code",
   "execution_count": 172,
   "metadata": {},
   "outputs": [],
   "source": [
    "# Calculating the accuracy score.\n",
    "acc_score = accuracy_score(y_test, predictions)"
   ]
  },
  {
   "cell_type": "code",
   "execution_count": 173,
   "metadata": {},
   "outputs": [
    {
     "name": "stdout",
     "output_type": "stream",
     "text": [
      "Confusion Matrix\n"
     ]
    },
    {
     "data": {
      "text/html": [
       "<div>\n",
       "<style scoped>\n",
       "    .dataframe tbody tr th:only-of-type {\n",
       "        vertical-align: middle;\n",
       "    }\n",
       "\n",
       "    .dataframe tbody tr th {\n",
       "        vertical-align: top;\n",
       "    }\n",
       "\n",
       "    .dataframe thead th {\n",
       "        text-align: right;\n",
       "    }\n",
       "</style>\n",
       "<table border=\"1\" class=\"dataframe\">\n",
       "  <thead>\n",
       "    <tr style=\"text-align: right;\">\n",
       "      <th></th>\n",
       "      <th>Predicted 0</th>\n",
       "      <th>Predicted 1</th>\n",
       "    </tr>\n",
       "  </thead>\n",
       "  <tbody>\n",
       "    <tr>\n",
       "      <th>Actual 0</th>\n",
       "      <td>574</td>\n",
       "      <td>602</td>\n",
       "    </tr>\n",
       "    <tr>\n",
       "      <th>Actual 1</th>\n",
       "      <td>479</td>\n",
       "      <td>902</td>\n",
       "    </tr>\n",
       "  </tbody>\n",
       "</table>\n",
       "</div>"
      ],
      "text/plain": [
       "          Predicted 0  Predicted 1\n",
       "Actual 0          574          602\n",
       "Actual 1          479          902"
      ]
     },
     "metadata": {},
     "output_type": "display_data"
    },
    {
     "name": "stdout",
     "output_type": "stream",
     "text": [
      "Accuracy Score : 0.577238951896754\n",
      "Classification Report\n",
      "              precision    recall  f1-score   support\n",
      "\n",
      "           0       0.55      0.49      0.52      1176\n",
      "           1       0.60      0.65      0.63      1381\n",
      "\n",
      "    accuracy                           0.58      2557\n",
      "   macro avg       0.57      0.57      0.57      2557\n",
      "weighted avg       0.57      0.58      0.57      2557\n",
      "\n"
     ]
    }
   ],
   "source": [
    "# Displaying results\n",
    "print(\"Confusion Matrix\")\n",
    "display(cm_df)\n",
    "print(f\"Accuracy Score : {acc_score}\")\n",
    "print(\"Classification Report\")\n",
    "print(classification_report(y_test, predictions))"
   ]
  },
  {
   "cell_type": "code",
   "execution_count": 174,
   "metadata": {},
   "outputs": [
    {
     "data": {
      "text/plain": [
       "array([0.18241305, 0.13378675, 0.12965709, 0.13183945, 0.12662915,\n",
       "       0.13256455, 0.16310996])"
      ]
     },
     "execution_count": 174,
     "metadata": {},
     "output_type": "execute_result"
    }
   ],
   "source": [
    "# Calculate feature importance in the Random Forest model.\n",
    "importances = rf_model.feature_importances_\n",
    "importances"
   ]
  },
  {
   "cell_type": "code",
   "execution_count": 175,
   "metadata": {},
   "outputs": [
    {
     "data": {
      "text/plain": [
       "[(0.18241305222448534, 'Date'),\n",
       " (0.16310995508712725, 'Volume'),\n",
       " (0.13378675017075958, 'Open'),\n",
       " (0.1325645542623745, 'Adj Close'),\n",
       " (0.13183945135826688, 'Low'),\n",
       " (0.12965709117813587, 'High'),\n",
       " (0.1266291457188507, 'Close')]"
      ]
     },
     "execution_count": 175,
     "metadata": {},
     "output_type": "execute_result"
    }
   ],
   "source": [
    "# We can sort the features by their importance.\n",
    "sorted(zip(rf_model.feature_importances_, X.columns), reverse=True)"
   ]
  },
  {
   "cell_type": "code",
   "execution_count": null,
   "metadata": {},
   "outputs": [],
   "source": []
  }
 ],
 "metadata": {
  "kernelspec": {
   "display_name": "PythonData",
   "language": "python",
   "name": "pythondata"
  },
  "language_info": {
   "codemirror_mode": {
    "name": "ipython",
    "version": 3
   },
   "file_extension": ".py",
   "mimetype": "text/x-python",
   "name": "python",
   "nbconvert_exporter": "python",
   "pygments_lexer": "ipython3",
   "version": "3.7.9"
  }
 },
 "nbformat": 4,
 "nbformat_minor": 4
}
