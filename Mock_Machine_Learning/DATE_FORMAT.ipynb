{
 "cells": [
  {
   "cell_type": "code",
   "execution_count": 35,
   "metadata": {},
   "outputs": [],
   "source": [
    "import pandas as pd\n",
    "from path import Path"
   ]
  },
  {
   "cell_type": "code",
   "execution_count": 36,
   "metadata": {},
   "outputs": [
    {
     "data": {
      "text/html": [
       "<div>\n",
       "<style scoped>\n",
       "    .dataframe tbody tr th:only-of-type {\n",
       "        vertical-align: middle;\n",
       "    }\n",
       "\n",
       "    .dataframe tbody tr th {\n",
       "        vertical-align: top;\n",
       "    }\n",
       "\n",
       "    .dataframe thead th {\n",
       "        text-align: right;\n",
       "    }\n",
       "</style>\n",
       "<table border=\"1\" class=\"dataframe\">\n",
       "  <thead>\n",
       "    <tr style=\"text-align: right;\">\n",
       "      <th></th>\n",
       "      <th>Date</th>\n",
       "    </tr>\n",
       "  </thead>\n",
       "  <tbody>\n",
       "    <tr>\n",
       "      <th>0</th>\n",
       "      <td>1981-02-11</td>\n",
       "    </tr>\n",
       "    <tr>\n",
       "      <th>1</th>\n",
       "      <td>1981-02-12</td>\n",
       "    </tr>\n",
       "    <tr>\n",
       "      <th>2</th>\n",
       "      <td>1981-02-13</td>\n",
       "    </tr>\n",
       "    <tr>\n",
       "      <th>3</th>\n",
       "      <td>1981-02-17</td>\n",
       "    </tr>\n",
       "    <tr>\n",
       "      <th>4</th>\n",
       "      <td>1981-02-18</td>\n",
       "    </tr>\n",
       "  </tbody>\n",
       "</table>\n",
       "</div>"
      ],
      "text/plain": [
       "        Date\n",
       "0 1981-02-11\n",
       "1 1981-02-12\n",
       "2 1981-02-13\n",
       "3 1981-02-17\n",
       "4 1981-02-18"
      ]
     },
     "execution_count": 36,
     "metadata": {},
     "output_type": "execute_result"
    }
   ],
   "source": [
    "file_path =Path(\"AAPL_Mock_ML_OPEN_DATE.csv\")\n",
    "open_date_df = pd.read_csv(file_path, parse_dates=['Date'], index_col=False)\n",
    "open_date_df.set_index('Unnamed: 0',inplace=True)\n",
    "open_date_df.index.name=None\n",
    "open_date_df.head()"
   ]
  },
  {
   "cell_type": "code",
   "execution_count": 26,
   "metadata": {},
   "outputs": [],
   "source": [
    "#open_date_df.drop(['Unnamed:0'])\n",
    "#open_date_df.reset_index()"
   ]
  },
  {
   "cell_type": "code",
   "execution_count": 27,
   "metadata": {},
   "outputs": [],
   "source": [
    "#open_date_df.drop(columns=['Unnamed:0'])\n",
    "#open_date_df.drop('Unnamed:0', axis=0,inplace=True)\n",
    "#del open_date_df['Unnamed:0']"
   ]
  },
  {
   "cell_type": "code",
   "execution_count": 45,
   "metadata": {
    "scrolled": true
   },
   "outputs": [
    {
     "name": "stdout",
     "output_type": "stream",
     "text": [
      "0     02/11/81\n",
      "1     02/12/81\n",
      "2     02/13/81\n",
      "3     02/17/81\n",
      "4     02/18/81\n",
      "5     02/19/81\n",
      "6     02/20/81\n",
      "7     02/23/81\n",
      "8     02/24/81\n",
      "9     02/25/81\n",
      "10    02/26/81\n",
      "11    02/27/81\n",
      "12    03/02/81\n",
      "13    03/03/81\n",
      "14    03/04/81\n",
      "15    03/05/81\n",
      "16    03/06/81\n",
      "17    03/09/81\n",
      "18    03/10/81\n",
      "19    03/11/81\n",
      "20    03/12/81\n",
      "21    03/13/81\n",
      "22    03/16/81\n",
      "23    03/17/81\n",
      "24    03/18/81\n",
      "25    03/19/81\n",
      "26    03/20/81\n",
      "27    03/23/81\n",
      "28    03/24/81\n",
      "29    03/25/81\n",
      "30    03/26/81\n",
      "31    03/27/81\n",
      "32    03/30/81\n",
      "33    03/31/81\n",
      "34    04/01/81\n",
      "35    04/02/81\n",
      "36    04/03/81\n",
      "37    04/06/81\n",
      "38    04/07/81\n",
      "39    04/08/81\n",
      "40    04/09/81\n",
      "Name: Date, dtype: object\n"
     ]
    }
   ],
   "source": [
    "\n",
    "formatted_AAPL_OPEN_df = open_date_df[\"Date\"].dt.strftime(\"%m/%d/%y\")\n",
    "\n",
    "print(formatted_AAPL_OPEN_df)\n",
    "formatted_AAPL_OPEN_df.to_csv('CLEAN_AAPL_Mock_ML_OPEN_DATE.csv')"
   ]
  },
  {
   "cell_type": "code",
   "execution_count": 38,
   "metadata": {},
   "outputs": [
    {
     "data": {
      "text/html": [
       "<div>\n",
       "<style scoped>\n",
       "    .dataframe tbody tr th:only-of-type {\n",
       "        vertical-align: middle;\n",
       "    }\n",
       "\n",
       "    .dataframe tbody tr th {\n",
       "        vertical-align: top;\n",
       "    }\n",
       "\n",
       "    .dataframe thead th {\n",
       "        text-align: right;\n",
       "    }\n",
       "</style>\n",
       "<table border=\"1\" class=\"dataframe\">\n",
       "  <thead>\n",
       "    <tr style=\"text-align: right;\">\n",
       "      <th></th>\n",
       "      <th>Date</th>\n",
       "    </tr>\n",
       "  </thead>\n",
       "  <tbody>\n",
       "    <tr>\n",
       "      <th>0</th>\n",
       "      <td>1981-02-11</td>\n",
       "    </tr>\n",
       "    <tr>\n",
       "      <th>1</th>\n",
       "      <td>1981-02-12</td>\n",
       "    </tr>\n",
       "    <tr>\n",
       "      <th>2</th>\n",
       "      <td>1981-02-13</td>\n",
       "    </tr>\n",
       "    <tr>\n",
       "      <th>3</th>\n",
       "      <td>1981-02-17</td>\n",
       "    </tr>\n",
       "    <tr>\n",
       "      <th>4</th>\n",
       "      <td>1981-02-18</td>\n",
       "    </tr>\n",
       "  </tbody>\n",
       "</table>\n",
       "</div>"
      ],
      "text/plain": [
       "        Date\n",
       "0 1981-02-11\n",
       "1 1981-02-12\n",
       "2 1981-02-13\n",
       "3 1981-02-17\n",
       "4 1981-02-18"
      ]
     },
     "execution_count": 38,
     "metadata": {},
     "output_type": "execute_result"
    }
   ],
   "source": [
    "file_path =Path(\"AAPL_Mock_ML_CLOSE_DATE.csv\")\n",
    "close_date_df = pd.read_csv(file_path, parse_dates=['Date'], index_col=False)\n",
    "close_date_df.set_index('Unnamed: 0',inplace=True)\n",
    "close_date_df.index.name=None\n",
    "close_date_df.head()"
   ]
  },
  {
   "cell_type": "code",
   "execution_count": 46,
   "metadata": {},
   "outputs": [],
   "source": [
    "\n",
    "formatted_AAPL_CLOSE_df = close_date_df[\"Date\"].dt.strftime(\"%m/%d/%y\")\n",
    "\n",
    "#print(formatted_AAPL_CLOSE_df)\n",
    "formatted_AAPL_CLOSE_df.to_csv('CLEAN_AAPL_Mock_ML_CLOSE_DATE.csv')"
   ]
  },
  {
   "cell_type": "code",
   "execution_count": 40,
   "metadata": {},
   "outputs": [
    {
     "data": {
      "text/html": [
       "<div>\n",
       "<style scoped>\n",
       "    .dataframe tbody tr th:only-of-type {\n",
       "        vertical-align: middle;\n",
       "    }\n",
       "\n",
       "    .dataframe tbody tr th {\n",
       "        vertical-align: top;\n",
       "    }\n",
       "\n",
       "    .dataframe thead th {\n",
       "        text-align: right;\n",
       "    }\n",
       "</style>\n",
       "<table border=\"1\" class=\"dataframe\">\n",
       "  <thead>\n",
       "    <tr style=\"text-align: right;\">\n",
       "      <th></th>\n",
       "      <th>Date</th>\n",
       "    </tr>\n",
       "  </thead>\n",
       "  <tbody>\n",
       "    <tr>\n",
       "      <th>0</th>\n",
       "      <td>1981-02-11</td>\n",
       "    </tr>\n",
       "    <tr>\n",
       "      <th>1</th>\n",
       "      <td>1981-02-12</td>\n",
       "    </tr>\n",
       "    <tr>\n",
       "      <th>2</th>\n",
       "      <td>1981-02-13</td>\n",
       "    </tr>\n",
       "    <tr>\n",
       "      <th>3</th>\n",
       "      <td>1981-02-17</td>\n",
       "    </tr>\n",
       "    <tr>\n",
       "      <th>4</th>\n",
       "      <td>1981-02-18</td>\n",
       "    </tr>\n",
       "  </tbody>\n",
       "</table>\n",
       "</div>"
      ],
      "text/plain": [
       "        Date\n",
       "0 1981-02-11\n",
       "1 1981-02-12\n",
       "2 1981-02-13\n",
       "3 1981-02-17\n",
       "4 1981-02-18"
      ]
     },
     "execution_count": 40,
     "metadata": {},
     "output_type": "execute_result"
    }
   ],
   "source": [
    "file_path =Path(\"AAPL_Mock_ML_HIGH_DATE.csv\")\n",
    "high_date_df = pd.read_csv(file_path, parse_dates=['Date'], index_col=False)\n",
    "high_date_df.set_index('Unnamed: 0',inplace=True)\n",
    "high_date_df.index.name=None\n",
    "high_date_df.head()"
   ]
  },
  {
   "cell_type": "code",
   "execution_count": 47,
   "metadata": {},
   "outputs": [],
   "source": [
    "\n",
    "formatted_AAPL_HIGH_df = high_date_df[\"Date\"].dt.strftime(\"%m/%d/%y\")\n",
    "formatted_AAPL_HIGH_df.to_csv('CLEAN_AAPL_Mock_ML_HIGH_DATE.csv')"
   ]
  },
  {
   "cell_type": "code",
   "execution_count": 42,
   "metadata": {},
   "outputs": [
    {
     "data": {
      "text/html": [
       "<div>\n",
       "<style scoped>\n",
       "    .dataframe tbody tr th:only-of-type {\n",
       "        vertical-align: middle;\n",
       "    }\n",
       "\n",
       "    .dataframe tbody tr th {\n",
       "        vertical-align: top;\n",
       "    }\n",
       "\n",
       "    .dataframe thead th {\n",
       "        text-align: right;\n",
       "    }\n",
       "</style>\n",
       "<table border=\"1\" class=\"dataframe\">\n",
       "  <thead>\n",
       "    <tr style=\"text-align: right;\">\n",
       "      <th></th>\n",
       "      <th>Date</th>\n",
       "    </tr>\n",
       "  </thead>\n",
       "  <tbody>\n",
       "    <tr>\n",
       "      <th>0</th>\n",
       "      <td>1981-02-11</td>\n",
       "    </tr>\n",
       "    <tr>\n",
       "      <th>1</th>\n",
       "      <td>1981-02-12</td>\n",
       "    </tr>\n",
       "    <tr>\n",
       "      <th>2</th>\n",
       "      <td>1981-02-13</td>\n",
       "    </tr>\n",
       "    <tr>\n",
       "      <th>3</th>\n",
       "      <td>1981-02-17</td>\n",
       "    </tr>\n",
       "    <tr>\n",
       "      <th>4</th>\n",
       "      <td>1981-02-18</td>\n",
       "    </tr>\n",
       "  </tbody>\n",
       "</table>\n",
       "</div>"
      ],
      "text/plain": [
       "        Date\n",
       "0 1981-02-11\n",
       "1 1981-02-12\n",
       "2 1981-02-13\n",
       "3 1981-02-17\n",
       "4 1981-02-18"
      ]
     },
     "execution_count": 42,
     "metadata": {},
     "output_type": "execute_result"
    }
   ],
   "source": [
    "file_path =Path(\"AAPL_Mock_ML_LOW_DATE.csv\")\n",
    "low_date_df = pd.read_csv(file_path, parse_dates=['Date'], index_col=False)\n",
    "low_date_df.set_index('Unnamed: 0',inplace=True)\n",
    "low_date_df.index.name=None\n",
    "low_date_df.head()"
   ]
  },
  {
   "cell_type": "code",
   "execution_count": 48,
   "metadata": {},
   "outputs": [],
   "source": [
    "formatted_AAPL_LOW_df = low_date_df[\"Date\"].dt.strftime(\"%m/%d/%y\")\n",
    "formatted_AAPL_LOW_df.to_csv('CLEAN_AAPL_Mock_ML_LOW_DATE.csv')"
   ]
  }
 ],
 "metadata": {
  "kernelspec": {
   "display_name": "PythonData",
   "language": "python",
   "name": "pythondata"
  },
  "language_info": {
   "codemirror_mode": {
    "name": "ipython",
    "version": 3
   },
   "file_extension": ".py",
   "mimetype": "text/x-python",
   "name": "python",
   "nbconvert_exporter": "python",
   "pygments_lexer": "ipython3",
   "version": "3.7.9"
  }
 },
 "nbformat": 4,
 "nbformat_minor": 4
}
